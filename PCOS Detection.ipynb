{
 "cells": [
  {
   "cell_type": "code",
   "execution_count": 39,
   "metadata": {},
   "outputs": [],
   "source": [
    "import numpy as np\n",
    "import matplotlib.pyplot as plt\n",
    "import tensorflow as tf"
   ]
  },
  {
   "cell_type": "code",
   "execution_count": 40,
   "metadata": {},
   "outputs": [],
   "source": [
    "train = r'C:\\Users\\khush\\OneDrive\\Desktop\\Download\\Semester 6\\Pattern Recognition\\PCOS Dataset\\train'\n",
    "test = r'C:\\Users\\khush\\OneDrive\\Desktop\\Download\\Semester 6\\Pattern Recognition\\PCOS Dataset\\test'"
   ]
  },
  {
   "cell_type": "code",
   "execution_count": 41,
   "metadata": {},
   "outputs": [
    {
     "name": "stdout",
     "output_type": "stream",
     "text": [
      "Found 1924 files belonging to 2 classes.\n",
      "Using 1540 files for training.\n",
      "Found 1924 files belonging to 2 classes.\n",
      "Using 384 files for validation.\n",
      "Found 1932 files belonging to 2 classes.\n"
     ]
    }
   ],
   "source": [
    "train_ds = tf.keras.preprocessing.image_dataset_from_directory(\n",
    "    train,label_mode=\"binary\",shuffle=True,seed=12,\n",
    "    validation_split= 0.20,subset=\"training\",image_size=(256,256),batch_size=32)\n",
    "\n",
    "val_ds = tf.keras.preprocessing.image_dataset_from_directory(\n",
    "    train,validation_split= 0.20,seed=12,subset=\"validation\",image_size=(256,256),batch_size=32)\n",
    "\n",
    "\n",
    "test_ds = tf.keras.preprocessing.image_dataset_from_directory(\n",
    "    test,image_size=(256,256),batch_size=32)"
   ]
  },
  {
   "cell_type": "code",
   "execution_count": 42,
   "metadata": {},
   "outputs": [
    {
     "name": "stdout",
     "output_type": "stream",
     "text": [
      "Found 1540 images belonging to 2 classes.\n"
     ]
    }
   ],
   "source": [
    "from tensorflow.keras.preprocessing.image import ImageDataGenerator\n",
    "\n",
    "datagen = ImageDataGenerator(rescale = 1./255, shear_range = 0.2, zoom_range = 0.2,\n",
    "                            horizontal_flip = True,vertical_flip=True,rotation_range=20,\n",
    "                            validation_split=0.2)\n",
    "\n",
    "\n",
    "train_ds = datagen.flow_from_directory(train, class_mode='categorical', classes=['infected', 'notinfected'],\n",
    "                                    target_size=(256,256),batch_size=32,subset='training')"
   ]
  },
  {
   "cell_type": "code",
   "execution_count": 43,
   "metadata": {},
   "outputs": [
    {
     "name": "stdout",
     "output_type": "stream",
     "text": [
      "Found 384 images belonging to 2 classes.\n"
     ]
    }
   ],
   "source": [
    "val_ds = datagen.flow_from_directory( train,class_mode='categorical',classes=['infected', 'notinfected'],\n",
    "                                    target_size=(256,256), batch_size=32,subset='validation')"
   ]
  },
  {
   "cell_type": "code",
   "execution_count": 44,
   "metadata": {},
   "outputs": [
    {
     "name": "stdout",
     "output_type": "stream",
     "text": [
      "Found 1932 files belonging to 2 classes.\n"
     ]
    }
   ],
   "source": [
    "test_ds = tf.keras.preprocessing.image_dataset_from_directory(test,image_size=(256,256),\n",
    "                                                              batch_size=32)"
   ]
  },
  {
   "cell_type": "code",
   "execution_count": 45,
   "metadata": {},
   "outputs": [],
   "source": [
    "from keras.layers import Input, Dense, Flatten\n",
    "from keras.callbacks import EarlyStopping\n",
    "from keras.optimizers import Adam\n",
    "from tensorflow.keras.models import Sequential\n",
    "from tensorflow.keras.layers import Dense, Flatten, Conv2D, MaxPooling2D\n",
    "from tensorflow.keras.losses import BinaryCrossentropy"
   ]
  },
  {
   "cell_type": "code",
   "execution_count": 46,
   "metadata": {},
   "outputs": [],
   "source": [
    "model = Sequential()\n",
    "\n",
    "model.add(Conv2D(12, (5,5),padding='SAME',activation='relu'))\n",
    "model.add(MaxPooling2D(pool_size=(2,2)))\n",
    "\n",
    "model.add(Conv2D(8, (5,5),padding='SAME',activation='relu'))\n",
    "model.add(MaxPooling2D(pool_size=(2,2)))\n",
    "\n",
    "model.add(Conv2D(4, (5,5),padding='SAME',activation='relu'))\n",
    "model.add(MaxPooling2D(pool_size=(2,2)))\n",
    "model.add(Flatten())\n",
    "\n",
    "model.add(Dense(2,activation='softmax'))"
   ]
  },
  {
   "cell_type": "code",
   "execution_count": 47,
   "metadata": {},
   "outputs": [],
   "source": [
    "model.compile(optimizer=Adam(learning_rate=0.01), loss=BinaryCrossentropy(), metrics=['accuracy'])"
   ]
  },
  {
   "cell_type": "code",
   "execution_count": 48,
   "metadata": {},
   "outputs": [],
   "source": [
    "earlyStopping = EarlyStopping(monitor=\"val_loss\", mode=\"min\", verbose=1,patience=15)"
   ]
  },
  {
   "cell_type": "code",
   "execution_count": 49,
   "metadata": {},
   "outputs": [
    {
     "name": "stdout",
     "output_type": "stream",
     "text": [
      "Epoch 1/10\n",
      "49/49 [==============================] - 57s 1s/step - loss: 0.5146 - accuracy: 0.7552 - val_loss: 0.4581 - val_accuracy: 0.7995\n",
      "Epoch 2/10\n",
      "49/49 [==============================] - 51s 996ms/step - loss: 0.1890 - accuracy: 0.9240 - val_loss: 0.0889 - val_accuracy: 0.9714\n",
      "Epoch 3/10\n",
      "49/49 [==============================] - 51s 1s/step - loss: 0.0918 - accuracy: 0.9721 - val_loss: 0.1291 - val_accuracy: 0.9583\n",
      "Epoch 4/10\n",
      "49/49 [==============================] - 58s 1s/step - loss: 0.0740 - accuracy: 0.9747 - val_loss: 0.0696 - val_accuracy: 0.9714\n",
      "Epoch 5/10\n",
      "49/49 [==============================] - 55s 1s/step - loss: 0.0725 - accuracy: 0.9792 - val_loss: 0.1017 - val_accuracy: 0.9635\n",
      "Epoch 6/10\n",
      "49/49 [==============================] - 56s 1s/step - loss: 0.0161 - accuracy: 0.9942 - val_loss: 0.0124 - val_accuracy: 0.9974\n",
      "Epoch 7/10\n",
      "49/49 [==============================] - 58s 1s/step - loss: 0.0130 - accuracy: 0.9942 - val_loss: 0.0469 - val_accuracy: 0.9870\n",
      "Epoch 8/10\n",
      "49/49 [==============================] - 68s 1s/step - loss: 0.0099 - accuracy: 0.9974 - val_loss: 0.0092 - val_accuracy: 0.9974\n",
      "Epoch 9/10\n",
      "49/49 [==============================] - 5535s 115s/step - loss: 0.0050 - accuracy: 0.9987 - val_loss: 0.0165 - val_accuracy: 0.9922\n",
      "Epoch 10/10\n",
      "49/49 [==============================] - 133s 3s/step - loss: 0.0096 - accuracy: 0.9994 - val_loss: 0.0029 - val_accuracy: 1.0000\n"
     ]
    }
   ],
   "source": [
    "history = model.fit( \n",
    "    train_ds,\n",
    "    validation_data=val_ds,\n",
    "    callbacks=[earlyStopping],\n",
    "    batch_size=32,\n",
    "    verbose=1,\n",
    "    epochs=10)\n"
   ]
  },
  {
   "cell_type": "code",
   "execution_count": 50,
   "metadata": {},
   "outputs": [
    {
     "name": "stdout",
     "output_type": "stream",
     "text": [
      "Model: \"sequential_2\"\n",
      "_________________________________________________________________\n",
      " Layer (type)                Output Shape              Param #   \n",
      "=================================================================\n",
      " conv2d_6 (Conv2D)           (None, None, None, 12)    912       \n",
      "                                                                 \n",
      " max_pooling2d_6 (MaxPoolin  (None, None, None, 12)    0         \n",
      " g2D)                                                            \n",
      "                                                                 \n",
      " conv2d_7 (Conv2D)           (None, None, None, 8)     2408      \n",
      "                                                                 \n",
      " max_pooling2d_7 (MaxPoolin  (None, None, None, 8)     0         \n",
      " g2D)                                                            \n",
      "                                                                 \n",
      " conv2d_8 (Conv2D)           (None, None, None, 4)     804       \n",
      "                                                                 \n",
      " max_pooling2d_8 (MaxPoolin  (None, None, None, 4)     0         \n",
      " g2D)                                                            \n",
      "                                                                 \n",
      " flatten_2 (Flatten)         (None, None)              0         \n",
      "                                                                 \n",
      " dense_2 (Dense)             (None, 2)                 8194      \n",
      "                                                                 \n",
      "=================================================================\n",
      "Total params: 12318 (48.12 KB)\n",
      "Trainable params: 12318 (48.12 KB)\n",
      "Non-trainable params: 0 (0.00 Byte)\n",
      "_________________________________________________________________\n"
     ]
    }
   ],
   "source": [
    "model.summary()"
   ]
  }
 ],
 "metadata": {
  "kernelspec": {
   "display_name": "Python 3",
   "language": "python",
   "name": "python3"
  },
  "language_info": {
   "codemirror_mode": {
    "name": "ipython",
    "version": 3
   },
   "file_extension": ".py",
   "mimetype": "text/x-python",
   "name": "python",
   "nbconvert_exporter": "python",
   "pygments_lexer": "ipython3",
   "version": "3.11.4"
  }
 },
 "nbformat": 4,
 "nbformat_minor": 2
}
